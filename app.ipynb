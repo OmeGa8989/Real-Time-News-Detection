{
 "cells": [
  {
   "cell_type": "code",
   "execution_count": 2,
   "metadata": {},
   "outputs": [],
   "source": [
    "import pandas as pd \n",
    "from sklearn.model_selection import train_test_split \n",
    "from sklearn.feature_extraction.text import TfidfVectorizer\n",
    "from sklearn.linear_model import LogisticRegression\n",
    "from sklearn.svm import SVC\n",
    "from sklearn.naive_bayes import MultinomialNB\n",
    "from sklearn.ensemble import RandomForestClassifier, GradientBoostingClassifier\n",
    "from sklearn.metrics import classification_report , accuracy_score\n",
    "import re\n",
    "import joblib \n",
    "import string\n",
    "\n"
   ]
  },
  {
   "cell_type": "code",
   "execution_count": null,
   "metadata": {},
   "outputs": [],
   "source": []
  },
  {
   "cell_type": "code",
   "execution_count": null,
   "metadata": {},
   "outputs": [],
   "source": []
  },
  {
   "cell_type": "code",
   "execution_count": null,
   "metadata": {},
   "outputs": [],
   "source": [
    "\n",
    "\n",
    "\n",
    "\n",
    "\n",
    "fake = pd.read_csv('Fake.csv')\n",
    "true = pd.read_csv('True.csv')"
   ]
  },
  {
   "cell_type": "code",
   "execution_count": 4,
   "metadata": {},
   "outputs": [
    {
     "data": {
      "text/html": [
       "<div>\n",
       "<style scoped>\n",
       "    .dataframe tbody tr th:only-of-type {\n",
       "        vertical-align: middle;\n",
       "    }\n",
       "\n",
       "    .dataframe tbody tr th {\n",
       "        vertical-align: top;\n",
       "    }\n",
       "\n",
       "    .dataframe thead th {\n",
       "        text-align: right;\n",
       "    }\n",
       "</style>\n",
       "<table border=\"1\" class=\"dataframe\">\n",
       "  <thead>\n",
       "    <tr style=\"text-align: right;\">\n",
       "      <th></th>\n",
       "      <th>title</th>\n",
       "      <th>text</th>\n",
       "      <th>subject</th>\n",
       "      <th>date</th>\n",
       "    </tr>\n",
       "  </thead>\n",
       "  <tbody>\n",
       "    <tr>\n",
       "      <th>0</th>\n",
       "      <td>Donald Trump Sends Out Embarrassing New Year’...</td>\n",
       "      <td>Donald Trump just couldn t wish all Americans ...</td>\n",
       "      <td>News</td>\n",
       "      <td>December 31, 2017</td>\n",
       "    </tr>\n",
       "    <tr>\n",
       "      <th>1</th>\n",
       "      <td>Drunk Bragging Trump Staffer Started Russian ...</td>\n",
       "      <td>House Intelligence Committee Chairman Devin Nu...</td>\n",
       "      <td>News</td>\n",
       "      <td>December 31, 2017</td>\n",
       "    </tr>\n",
       "    <tr>\n",
       "      <th>2</th>\n",
       "      <td>Sheriff David Clarke Becomes An Internet Joke...</td>\n",
       "      <td>On Friday, it was revealed that former Milwauk...</td>\n",
       "      <td>News</td>\n",
       "      <td>December 30, 2017</td>\n",
       "    </tr>\n",
       "    <tr>\n",
       "      <th>3</th>\n",
       "      <td>Trump Is So Obsessed He Even Has Obama’s Name...</td>\n",
       "      <td>On Christmas day, Donald Trump announced that ...</td>\n",
       "      <td>News</td>\n",
       "      <td>December 29, 2017</td>\n",
       "    </tr>\n",
       "    <tr>\n",
       "      <th>4</th>\n",
       "      <td>Pope Francis Just Called Out Donald Trump Dur...</td>\n",
       "      <td>Pope Francis used his annual Christmas Day mes...</td>\n",
       "      <td>News</td>\n",
       "      <td>December 25, 2017</td>\n",
       "    </tr>\n",
       "  </tbody>\n",
       "</table>\n",
       "</div>"
      ],
      "text/plain": [
       "                                               title  \\\n",
       "0   Donald Trump Sends Out Embarrassing New Year’...   \n",
       "1   Drunk Bragging Trump Staffer Started Russian ...   \n",
       "2   Sheriff David Clarke Becomes An Internet Joke...   \n",
       "3   Trump Is So Obsessed He Even Has Obama’s Name...   \n",
       "4   Pope Francis Just Called Out Donald Trump Dur...   \n",
       "\n",
       "                                                text subject  \\\n",
       "0  Donald Trump just couldn t wish all Americans ...    News   \n",
       "1  House Intelligence Committee Chairman Devin Nu...    News   \n",
       "2  On Friday, it was revealed that former Milwauk...    News   \n",
       "3  On Christmas day, Donald Trump announced that ...    News   \n",
       "4  Pope Francis used his annual Christmas Day mes...    News   \n",
       "\n",
       "                date  \n",
       "0  December 31, 2017  \n",
       "1  December 31, 2017  \n",
       "2  December 30, 2017  \n",
       "3  December 29, 2017  \n",
       "4  December 25, 2017  "
      ]
     },
     "execution_count": 4,
     "metadata": {},
     "output_type": "execute_result"
    }
   ],
   "source": [
    "fake.head()"
   ]
  },
  {
   "cell_type": "code",
   "execution_count": 5,
   "metadata": {},
   "outputs": [
    {
     "data": {
      "text/html": [
       "<div>\n",
       "<style scoped>\n",
       "    .dataframe tbody tr th:only-of-type {\n",
       "        vertical-align: middle;\n",
       "    }\n",
       "\n",
       "    .dataframe tbody tr th {\n",
       "        vertical-align: top;\n",
       "    }\n",
       "\n",
       "    .dataframe thead th {\n",
       "        text-align: right;\n",
       "    }\n",
       "</style>\n",
       "<table border=\"1\" class=\"dataframe\">\n",
       "  <thead>\n",
       "    <tr style=\"text-align: right;\">\n",
       "      <th></th>\n",
       "      <th>title</th>\n",
       "      <th>text</th>\n",
       "      <th>subject</th>\n",
       "      <th>date</th>\n",
       "    </tr>\n",
       "  </thead>\n",
       "  <tbody>\n",
       "    <tr>\n",
       "      <th>0</th>\n",
       "      <td>As U.S. budget fight looms, Republicans flip t...</td>\n",
       "      <td>WASHINGTON (Reuters) - The head of a conservat...</td>\n",
       "      <td>politicsNews</td>\n",
       "      <td>December 31, 2017</td>\n",
       "    </tr>\n",
       "    <tr>\n",
       "      <th>1</th>\n",
       "      <td>U.S. military to accept transgender recruits o...</td>\n",
       "      <td>WASHINGTON (Reuters) - Transgender people will...</td>\n",
       "      <td>politicsNews</td>\n",
       "      <td>December 29, 2017</td>\n",
       "    </tr>\n",
       "    <tr>\n",
       "      <th>2</th>\n",
       "      <td>Senior U.S. Republican senator: 'Let Mr. Muell...</td>\n",
       "      <td>WASHINGTON (Reuters) - The special counsel inv...</td>\n",
       "      <td>politicsNews</td>\n",
       "      <td>December 31, 2017</td>\n",
       "    </tr>\n",
       "    <tr>\n",
       "      <th>3</th>\n",
       "      <td>FBI Russia probe helped by Australian diplomat...</td>\n",
       "      <td>WASHINGTON (Reuters) - Trump campaign adviser ...</td>\n",
       "      <td>politicsNews</td>\n",
       "      <td>December 30, 2017</td>\n",
       "    </tr>\n",
       "    <tr>\n",
       "      <th>4</th>\n",
       "      <td>Trump wants Postal Service to charge 'much mor...</td>\n",
       "      <td>SEATTLE/WASHINGTON (Reuters) - President Donal...</td>\n",
       "      <td>politicsNews</td>\n",
       "      <td>December 29, 2017</td>\n",
       "    </tr>\n",
       "  </tbody>\n",
       "</table>\n",
       "</div>"
      ],
      "text/plain": [
       "                                               title  \\\n",
       "0  As U.S. budget fight looms, Republicans flip t...   \n",
       "1  U.S. military to accept transgender recruits o...   \n",
       "2  Senior U.S. Republican senator: 'Let Mr. Muell...   \n",
       "3  FBI Russia probe helped by Australian diplomat...   \n",
       "4  Trump wants Postal Service to charge 'much mor...   \n",
       "\n",
       "                                                text       subject  \\\n",
       "0  WASHINGTON (Reuters) - The head of a conservat...  politicsNews   \n",
       "1  WASHINGTON (Reuters) - Transgender people will...  politicsNews   \n",
       "2  WASHINGTON (Reuters) - The special counsel inv...  politicsNews   \n",
       "3  WASHINGTON (Reuters) - Trump campaign adviser ...  politicsNews   \n",
       "4  SEATTLE/WASHINGTON (Reuters) - President Donal...  politicsNews   \n",
       "\n",
       "                 date  \n",
       "0  December 31, 2017   \n",
       "1  December 29, 2017   \n",
       "2  December 31, 2017   \n",
       "3  December 30, 2017   \n",
       "4  December 29, 2017   "
      ]
     },
     "execution_count": 5,
     "metadata": {},
     "output_type": "execute_result"
    }
   ],
   "source": [
    "true.head()"
   ]
  },
  {
   "cell_type": "code",
   "execution_count": 6,
   "metadata": {},
   "outputs": [],
   "source": [
    "fake['class']=0\n",
    "true['class']=1"
   ]
  },
  {
   "cell_type": "code",
   "execution_count": 7,
   "metadata": {},
   "outputs": [],
   "source": [
    "data = pd.concat([fake,true],axis=0)"
   ]
  },
  {
   "cell_type": "code",
   "execution_count": 8,
   "metadata": {},
   "outputs": [
    {
     "data": {
      "text/html": [
       "<div>\n",
       "<style scoped>\n",
       "    .dataframe tbody tr th:only-of-type {\n",
       "        vertical-align: middle;\n",
       "    }\n",
       "\n",
       "    .dataframe tbody tr th {\n",
       "        vertical-align: top;\n",
       "    }\n",
       "\n",
       "    .dataframe thead th {\n",
       "        text-align: right;\n",
       "    }\n",
       "</style>\n",
       "<table border=\"1\" class=\"dataframe\">\n",
       "  <thead>\n",
       "    <tr style=\"text-align: right;\">\n",
       "      <th></th>\n",
       "      <th>title</th>\n",
       "      <th>text</th>\n",
       "      <th>subject</th>\n",
       "      <th>date</th>\n",
       "      <th>class</th>\n",
       "    </tr>\n",
       "  </thead>\n",
       "  <tbody>\n",
       "    <tr>\n",
       "      <th>4351</th>\n",
       "      <td>U.S. lawmakers back Syria strikes, demand a pl...</td>\n",
       "      <td>WASHINGTON (Reuters) - Members of the U.S. Con...</td>\n",
       "      <td>politicsNews</td>\n",
       "      <td>April 7, 2017</td>\n",
       "      <td>1</td>\n",
       "    </tr>\n",
       "    <tr>\n",
       "      <th>2409</th>\n",
       "      <td>Ruth Bader Ginsburg Rebukes Trump In Defense ...</td>\n",
       "      <td>One of the most revered Supreme Court Justices...</td>\n",
       "      <td>News</td>\n",
       "      <td>February 23, 2017</td>\n",
       "      <td>0</td>\n",
       "    </tr>\n",
       "    <tr>\n",
       "      <th>7842</th>\n",
       "      <td>Judge gives Florida voters more time to regist...</td>\n",
       "      <td>(Reuters) - Florida residents were given six e...</td>\n",
       "      <td>politicsNews</td>\n",
       "      <td>October 12, 2016</td>\n",
       "      <td>1</td>\n",
       "    </tr>\n",
       "    <tr>\n",
       "      <th>12965</th>\n",
       "      <td>Former Catalan leader says to stay in Belgium ...</td>\n",
       "      <td>BRUSSELS (Reuters) - Former Catalan leader Car...</td>\n",
       "      <td>worldnews</td>\n",
       "      <td>December 6, 2017</td>\n",
       "      <td>1</td>\n",
       "    </tr>\n",
       "    <tr>\n",
       "      <th>3854</th>\n",
       "      <td>Trump says he fired FBI chief because he 'wasn...</td>\n",
       "      <td>WASHINGTON (Reuters) - U.S. President Donald T...</td>\n",
       "      <td>politicsNews</td>\n",
       "      <td>May 10, 2017</td>\n",
       "      <td>1</td>\n",
       "    </tr>\n",
       "  </tbody>\n",
       "</table>\n",
       "</div>"
      ],
      "text/plain": [
       "                                                   title  \\\n",
       "4351   U.S. lawmakers back Syria strikes, demand a pl...   \n",
       "2409    Ruth Bader Ginsburg Rebukes Trump In Defense ...   \n",
       "7842   Judge gives Florida voters more time to regist...   \n",
       "12965  Former Catalan leader says to stay in Belgium ...   \n",
       "3854   Trump says he fired FBI chief because he 'wasn...   \n",
       "\n",
       "                                                    text       subject  \\\n",
       "4351   WASHINGTON (Reuters) - Members of the U.S. Con...  politicsNews   \n",
       "2409   One of the most revered Supreme Court Justices...          News   \n",
       "7842   (Reuters) - Florida residents were given six e...  politicsNews   \n",
       "12965  BRUSSELS (Reuters) - Former Catalan leader Car...     worldnews   \n",
       "3854   WASHINGTON (Reuters) - U.S. President Donald T...  politicsNews   \n",
       "\n",
       "                    date  class  \n",
       "4351      April 7, 2017       1  \n",
       "2409   February 23, 2017      0  \n",
       "7842   October 12, 2016       1  \n",
       "12965  December 6, 2017       1  \n",
       "3854       May 10, 2017       1  "
      ]
     },
     "execution_count": 8,
     "metadata": {},
     "output_type": "execute_result"
    }
   ],
   "source": [
    "data.sample(5)"
   ]
  },
  {
   "cell_type": "code",
   "execution_count": 9,
   "metadata": {},
   "outputs": [],
   "source": [
    "data = data.drop(['title','subject','date'],axis = 1)"
   ]
  },
  {
   "cell_type": "code",
   "execution_count": 10,
   "metadata": {},
   "outputs": [],
   "source": [
    "data.reset_index(inplace=True)"
   ]
  },
  {
   "cell_type": "code",
   "execution_count": 11,
   "metadata": {},
   "outputs": [],
   "source": [
    "data.drop(['index'],axis=1,inplace=True)"
   ]
  },
  {
   "cell_type": "code",
   "execution_count": 12,
   "metadata": {},
   "outputs": [
    {
     "data": {
      "text/html": [
       "<div>\n",
       "<style scoped>\n",
       "    .dataframe tbody tr th:only-of-type {\n",
       "        vertical-align: middle;\n",
       "    }\n",
       "\n",
       "    .dataframe tbody tr th {\n",
       "        vertical-align: top;\n",
       "    }\n",
       "\n",
       "    .dataframe thead th {\n",
       "        text-align: right;\n",
       "    }\n",
       "</style>\n",
       "<table border=\"1\" class=\"dataframe\">\n",
       "  <thead>\n",
       "    <tr style=\"text-align: right;\">\n",
       "      <th></th>\n",
       "      <th>text</th>\n",
       "      <th>class</th>\n",
       "    </tr>\n",
       "  </thead>\n",
       "  <tbody>\n",
       "    <tr>\n",
       "      <th>24271</th>\n",
       "      <td>WASHINGTON (Reuters) - U.S. House Republicans ...</td>\n",
       "      <td>1</td>\n",
       "    </tr>\n",
       "    <tr>\n",
       "      <th>9700</th>\n",
       "      <td>This is great! Gen. John Kelly surprised the W...</td>\n",
       "      <td>0</td>\n",
       "    </tr>\n",
       "    <tr>\n",
       "      <th>39811</th>\n",
       "      <td>LONDON (Reuters) - Britain said on Friday it ...</td>\n",
       "      <td>1</td>\n",
       "    </tr>\n",
       "    <tr>\n",
       "      <th>24381</th>\n",
       "      <td>WASHINGTON (Reuters) - Republicans in the U.S....</td>\n",
       "      <td>1</td>\n",
       "    </tr>\n",
       "    <tr>\n",
       "      <th>28777</th>\n",
       "      <td>(Reuters) - Here are some of the highlights of...</td>\n",
       "      <td>1</td>\n",
       "    </tr>\n",
       "    <tr>\n",
       "      <th>34771</th>\n",
       "      <td>WASHINGTON (Reuters) - The United States and R...</td>\n",
       "      <td>1</td>\n",
       "    </tr>\n",
       "    <tr>\n",
       "      <th>11655</th>\n",
       "      <td>Last November, the UNC campus was full of angr...</td>\n",
       "      <td>0</td>\n",
       "    </tr>\n",
       "    <tr>\n",
       "      <th>16636</th>\n",
       "      <td>The replacement of workers by big corporations...</td>\n",
       "      <td>0</td>\n",
       "    </tr>\n",
       "    <tr>\n",
       "      <th>7329</th>\n",
       "      <td>The Ultra Music Festival in Miami is one of th...</td>\n",
       "      <td>0</td>\n",
       "    </tr>\n",
       "    <tr>\n",
       "      <th>33290</th>\n",
       "      <td>MEXICO CITY (Reuters) - At first, Mexico’s gov...</td>\n",
       "      <td>1</td>\n",
       "    </tr>\n",
       "    <tr>\n",
       "      <th>20467</th>\n",
       "      <td>Watch the video and you be the judge. Was Pier...</td>\n",
       "      <td>0</td>\n",
       "    </tr>\n",
       "    <tr>\n",
       "      <th>31763</th>\n",
       "      <td>NEW YORK (Reuters) - New Jersey Governor Chris...</td>\n",
       "      <td>1</td>\n",
       "    </tr>\n",
       "    <tr>\n",
       "      <th>8899</th>\n",
       "      <td>Once again pro-gun forces in America are tryin...</td>\n",
       "      <td>0</td>\n",
       "    </tr>\n",
       "    <tr>\n",
       "      <th>21920</th>\n",
       "      <td>Patrick Henningsen and Shawn Helton 21st Centu...</td>\n",
       "      <td>0</td>\n",
       "    </tr>\n",
       "    <tr>\n",
       "      <th>4246</th>\n",
       "      <td>Ever since Donald Trump got exposed through an...</td>\n",
       "      <td>0</td>\n",
       "    </tr>\n",
       "  </tbody>\n",
       "</table>\n",
       "</div>"
      ],
      "text/plain": [
       "                                                    text  class\n",
       "24271  WASHINGTON (Reuters) - U.S. House Republicans ...      1\n",
       "9700   This is great! Gen. John Kelly surprised the W...      0\n",
       "39811   LONDON (Reuters) - Britain said on Friday it ...      1\n",
       "24381  WASHINGTON (Reuters) - Republicans in the U.S....      1\n",
       "28777  (Reuters) - Here are some of the highlights of...      1\n",
       "34771  WASHINGTON (Reuters) - The United States and R...      1\n",
       "11655  Last November, the UNC campus was full of angr...      0\n",
       "16636  The replacement of workers by big corporations...      0\n",
       "7329   The Ultra Music Festival in Miami is one of th...      0\n",
       "33290  MEXICO CITY (Reuters) - At first, Mexico’s gov...      1\n",
       "20467  Watch the video and you be the judge. Was Pier...      0\n",
       "31763  NEW YORK (Reuters) - New Jersey Governor Chris...      1\n",
       "8899   Once again pro-gun forces in America are tryin...      0\n",
       "21920  Patrick Henningsen and Shawn Helton 21st Centu...      0\n",
       "4246   Ever since Donald Trump got exposed through an...      0"
      ]
     },
     "execution_count": 12,
     "metadata": {},
     "output_type": "execute_result"
    }
   ],
   "source": [
    "data.sample(15)"
   ]
  },
  {
   "cell_type": "code",
   "execution_count": 13,
   "metadata": {},
   "outputs": [],
   "source": [
    "def clean_text(text):\n",
    "    text = text.lower()\n",
    "    # regular expressions to refine text\n",
    "    \n",
    "    text = re.sub('\\[.*?\\]',\"\",text)\n",
    "    text = re.sub(\"\\\\W\",\" \",text)\n",
    "    text = re.sub(\"https?:://\\S+|www\\.\\S\",\"\",text)\n",
    "    text = re.sub(\"<.*?>+\",\"\",text)\n",
    "    text = re.sub(\"[%s]\"% re.escape(string.punctuation), \"\" , text)\n",
    "    text = re.sub(\"\\n\",\"\",text)\n",
    "    text = re.sub(\"\\w*\\d\\w*\",\"\",text)\n",
    "    return text\n"
   ]
  },
  {
   "cell_type": "code",
   "execution_count": 14,
   "metadata": {},
   "outputs": [],
   "source": [
    "data['text'] = data['text'].apply(clean_text)"
   ]
  },
  {
   "cell_type": "code",
   "execution_count": 15,
   "metadata": {},
   "outputs": [
    {
     "data": {
      "text/html": [
       "<div>\n",
       "<style scoped>\n",
       "    .dataframe tbody tr th:only-of-type {\n",
       "        vertical-align: middle;\n",
       "    }\n",
       "\n",
       "    .dataframe tbody tr th {\n",
       "        vertical-align: top;\n",
       "    }\n",
       "\n",
       "    .dataframe thead th {\n",
       "        text-align: right;\n",
       "    }\n",
       "</style>\n",
       "<table border=\"1\" class=\"dataframe\">\n",
       "  <thead>\n",
       "    <tr style=\"text-align: right;\">\n",
       "      <th></th>\n",
       "      <th>text</th>\n",
       "      <th>class</th>\n",
       "    </tr>\n",
       "  </thead>\n",
       "  <tbody>\n",
       "    <tr>\n",
       "      <th>31827</th>\n",
       "      <td>washington  reuters    u s  president barack o...</td>\n",
       "      <td>1</td>\n",
       "    </tr>\n",
       "    <tr>\n",
       "      <th>13249</th>\n",
       "      <td>afshin rattans goes underground inside the ecu...</td>\n",
       "      <td>0</td>\n",
       "    </tr>\n",
       "    <tr>\n",
       "      <th>25691</th>\n",
       "      <td>seoul  reuters    north korea said on saturday...</td>\n",
       "      <td>1</td>\n",
       "    </tr>\n",
       "    <tr>\n",
       "      <th>935</th>\n",
       "      <td>on independence day  national public radio twe...</td>\n",
       "      <td>0</td>\n",
       "    </tr>\n",
       "    <tr>\n",
       "      <th>4374</th>\n",
       "      <td>speaking to a bunch of his merry morons on mon...</td>\n",
       "      <td>0</td>\n",
       "    </tr>\n",
       "  </tbody>\n",
       "</table>\n",
       "</div>"
      ],
      "text/plain": [
       "                                                    text  class\n",
       "31827  washington  reuters    u s  president barack o...      1\n",
       "13249  afshin rattans goes underground inside the ecu...      0\n",
       "25691  seoul  reuters    north korea said on saturday...      1\n",
       "935    on independence day  national public radio twe...      0\n",
       "4374   speaking to a bunch of his merry morons on mon...      0"
      ]
     },
     "execution_count": 15,
     "metadata": {},
     "output_type": "execute_result"
    }
   ],
   "source": [
    "data.sample(5)"
   ]
  },
  {
   "cell_type": "code",
   "execution_count": 16,
   "metadata": {},
   "outputs": [],
   "source": [
    "x=data['text']\n",
    "y= data['class']\n",
    "\n",
    "# using 25% of the dataset \n",
    "xtrain,xtest,ytrain,ytest = train_test_split(x,y,test_size=0.25,random_state=42)\n"
   ]
  },
  {
   "cell_type": "code",
   "execution_count": null,
   "metadata": {},
   "outputs": [],
   "source": [
    "vectorizer = TfidfVectorizer(max_features=5000)  # Limiting max-features to 5000\n",
    "xv_train = vectorizer.fit_transform(xtrain)\n",
    "xv_test = vectorizer.transform(xtest)"
   ]
  },
  {
   "cell_type": "code",
   "execution_count": 26,
   "metadata": {},
   "outputs": [],
   "source": [
    "# Initialize models\n",
    "models = {\n",
    "    \"Logistic Regression\": LogisticRegression(max_iter=200),\n",
    "    \"SVM\": SVC(probability=True, kernel='linear'),  \n",
    "    \"Naïve Bayes\": MultinomialNB(),\n",
    "    \"Random Forest\": RandomForestClassifier(n_estimators=50, max_depth=10),  \n",
    "    \"Gradient Boosting\": GradientBoostingClassifier(n_estimators=50)  \n",
    "}\n",
    "\n"
   ]
  },
  {
   "cell_type": "code",
   "execution_count": 28,
   "metadata": {},
   "outputs": [
    {
     "name": "stdout",
     "output_type": "stream",
     "text": [
      "\n",
      "Model: Logistic Regression (Accuracy: 98.69%)\n",
      "\n",
      "              precision    recall  f1-score   support\n",
      "\n",
      "           0       0.99      0.99      0.99      5895\n",
      "           1       0.98      0.99      0.99      5330\n",
      "\n",
      "    accuracy                           0.99     11225\n",
      "   macro avg       0.99      0.99      0.99     11225\n",
      "weighted avg       0.99      0.99      0.99     11225\n",
      "\n",
      "\n",
      "Model: SVM (Accuracy: 99.34%)\n",
      "\n",
      "              precision    recall  f1-score   support\n",
      "\n",
      "           0       0.99      0.99      0.99      5895\n",
      "           1       0.99      0.99      0.99      5330\n",
      "\n",
      "    accuracy                           0.99     11225\n",
      "   macro avg       0.99      0.99      0.99     11225\n",
      "weighted avg       0.99      0.99      0.99     11225\n",
      "\n",
      "\n",
      "Model: Naïve Bayes (Accuracy: 93.03%)\n",
      "\n",
      "              precision    recall  f1-score   support\n",
      "\n",
      "           0       0.93      0.94      0.93      5895\n",
      "           1       0.93      0.92      0.93      5330\n",
      "\n",
      "    accuracy                           0.93     11225\n",
      "   macro avg       0.93      0.93      0.93     11225\n",
      "weighted avg       0.93      0.93      0.93     11225\n",
      "\n",
      "\n",
      "Model: Random Forest (Accuracy: 98.71%)\n",
      "\n",
      "              precision    recall  f1-score   support\n",
      "\n",
      "           0       0.99      0.99      0.99      5895\n",
      "           1       0.98      0.99      0.99      5330\n",
      "\n",
      "    accuracy                           0.99     11225\n",
      "   macro avg       0.99      0.99      0.99     11225\n",
      "weighted avg       0.99      0.99      0.99     11225\n",
      "\n",
      "\n",
      "Model: Gradient Boosting (Accuracy: 99.56%)\n",
      "\n",
      "              precision    recall  f1-score   support\n",
      "\n",
      "           0       1.00      0.99      1.00      5895\n",
      "           1       0.99      1.00      1.00      5330\n",
      "\n",
      "    accuracy                           1.00     11225\n",
      "   macro avg       1.00      1.00      1.00     11225\n",
      "weighted avg       1.00      1.00      1.00     11225\n",
      "\n"
     ]
    }
   ],
   "source": [
    "accuracies = {}\n",
    "model_files = {}\n",
    "for name, model in models.items():\n",
    "    model.fit(xv_train, ytrain)\n",
    "    predictions = model.predict(xv_test)\n",
    "    accuracy = accuracy_score(ytest, predictions)\n",
    "    accuracies[name] = accuracy * 100\n",
    "    model_file = f\"{name.lower().replace(' ', '_')}.jb\"\n",
    "    model_files[name] = model_file\n",
    "    print(f\"\\nModel: {name} (Accuracy: {accuracy * 100:.2f}%)\\n\")\n",
    "    print(classification_report(ytest, predictions))\n",
    "    joblib.dump(model, model_file)\n"
   ]
  },
  {
   "cell_type": "code",
   "execution_count": 29,
   "metadata": {},
   "outputs": [
    {
     "name": "stdout",
     "output_type": "stream",
     "text": [
      "              precision    recall  f1-score   support\n",
      "\n",
      "           0       1.00      0.99      1.00      5895\n",
      "           1       0.99      1.00      1.00      5330\n",
      "\n",
      "    accuracy                           1.00     11225\n",
      "   macro avg       1.00      1.00      1.00     11225\n",
      "weighted avg       1.00      1.00      1.00     11225\n",
      "\n"
     ]
    }
   ],
   "source": [
    "print(classification_report(ytest,predictions))"
   ]
  },
  {
   "cell_type": "code",
   "execution_count": 30,
   "metadata": {},
   "outputs": [
    {
     "data": {
      "text/plain": [
       "['model_accuracies.jb']"
      ]
     },
     "execution_count": 30,
     "metadata": {},
     "output_type": "execute_result"
    }
   ],
   "source": [
    "joblib.dump(vectorizer, \"vectorizer.jb\")\n",
    "# Save accuracies after training\n",
    "joblib.dump(accuracies, \"model_accuracies.jb\")\n"
   ]
  },
  {
   "cell_type": "code",
   "execution_count": null,
   "metadata": {},
   "outputs": [],
   "source": [
    "accuracies = joblib.load(\"model_accuracies.jb\")\n",
    "\n",
    "\n",
    "model_files = {\n",
    "    \"Logistic Regression\": \"logistic_regression.jb\",\n",
    "    \"SVM\": \"svm.jb\",\n",
    "    \"Naïve Bayes\": \"naïve_bayes.jb\",\n",
    "    \"Random Forest\": \"random_forest.jb\",\n",
    "    \"Gradient Boosting\": \"gradient_boosting.jb\"\n",
    "}\n"
   ]
  },
  {
   "cell_type": "code",
   "execution_count": 6,
   "metadata": {},
   "outputs": [],
   "source": [
    "import requests\n",
    "import pandas as pd\n"
   ]
  },
  {
   "cell_type": "code",
   "execution_count": null,
   "metadata": {},
   "outputs": [],
   "source": []
  },
  {
   "cell_type": "code",
   "execution_count": 8,
   "metadata": {},
   "outputs": [],
   "source": [
    "def fetch_news(api_key, query='fake news', language='en', page_size=5):\n",
    "    url = f'https://newsapi.org/v2/everything?q={query}&language={language}&pageSize={page_size}&apiKey={\"6f71237ad68849519af767614c450566\"}'\n",
    "    response = requests.get(url)\n",
    "    data = response.json()\n",
    "    articles = data.get('articles', [])\n",
    "    news_list = [{\n",
    "        'title': article['title'],\n",
    "        'description': article['description'],\n",
    "        'content': article['content'],\n",
    "        'source': article['source']['name'],\n",
    "        'url': article['url'],\n",
    "        'publishedAt': article['publishedAt']\n",
    "    } for article in articles]\n",
    "    \n",
    "    return pd.DataFrame(news_list)\n"
   ]
  },
  {
   "cell_type": "code",
   "execution_count": null,
   "metadata": {},
   "outputs": [],
   "source": []
  },
  {
   "cell_type": "code",
   "execution_count": 53,
   "metadata": {},
   "outputs": [
    {
     "data": {
      "text/html": [
       "<div>\n",
       "<style scoped>\n",
       "    .dataframe tbody tr th:only-of-type {\n",
       "        vertical-align: middle;\n",
       "    }\n",
       "\n",
       "    .dataframe tbody tr th {\n",
       "        vertical-align: top;\n",
       "    }\n",
       "\n",
       "    .dataframe thead th {\n",
       "        text-align: right;\n",
       "    }\n",
       "</style>\n",
       "<table border=\"1\" class=\"dataframe\">\n",
       "  <thead>\n",
       "    <tr style=\"text-align: right;\">\n",
       "      <th></th>\n",
       "      <th>title</th>\n",
       "      <th>description</th>\n",
       "      <th>content</th>\n",
       "      <th>source</th>\n",
       "      <th>url</th>\n",
       "      <th>publishedAt</th>\n",
       "    </tr>\n",
       "  </thead>\n",
       "  <tbody>\n",
       "    <tr>\n",
       "      <th>0</th>\n",
       "      <td>The fake promise of better Siri</td>\n",
       "      <td>Apple Intelligence is technically lots of thin...</td>\n",
       "      <td>On The Vergecast: AI gadget failures, how Tesl...</td>\n",
       "      <td>The Verge</td>\n",
       "      <td>https://www.theverge.com/the-vergecast/629652/...</td>\n",
       "      <td>2025-03-14T12:50:21Z</td>\n",
       "    </tr>\n",
       "    <tr>\n",
       "      <th>1</th>\n",
       "      <td>Stocks Plunge After Trump Declares Web Rumor o...</td>\n",
       "      <td>The stock market had a brief moment of hope on...</td>\n",
       "      <td>The stock market went on a rollercoaster ride ...</td>\n",
       "      <td>Gizmodo.com</td>\n",
       "      <td>https://gizmodo.com/stocks-plunge-after-trump-...</td>\n",
       "      <td>2025-04-07T17:32:00Z</td>\n",
       "    </tr>\n",
       "    <tr>\n",
       "      <th>2</th>\n",
       "      <td>People Making AI Studio Ghibli Images Are Now ...</td>\n",
       "      <td>Meanwhile, actual Ghibli creation Princess Mon...</td>\n",
       "      <td>The trend of using Open AI’s ChatGPT to create...</td>\n",
       "      <td>Gizmodo.com</td>\n",
       "      <td>https://gizmodo.com/ghibli-ai-chatgpt-fake-cea...</td>\n",
       "      <td>2025-03-28T20:35:34Z</td>\n",
       "    </tr>\n",
       "    <tr>\n",
       "      <th>3</th>\n",
       "      <td>Prosper murders 'expose lack of control' over ...</td>\n",
       "      <td>Nicholas Prosper bought a gun with a fake lice...</td>\n",
       "      <td>Phil Shepka &amp;amp; Laura Foster\\r\\nWatch: Kille...</td>\n",
       "      <td>BBC News</td>\n",
       "      <td>https://www.bbc.com/news/articles/ce8vpz7dev5o</td>\n",
       "      <td>2025-03-20T01:26:41Z</td>\n",
       "    </tr>\n",
       "    <tr>\n",
       "      <th>4</th>\n",
       "      <td>The Depressing Reason Those Terrible Fake Movi...</td>\n",
       "      <td>As AI only gets better at fooling audiences, m...</td>\n",
       "      <td>The latest viral AI craze has seen quickly gen...</td>\n",
       "      <td>Gizmodo.com</td>\n",
       "      <td>https://gizmodo.com/the-depressing-reason-thos...</td>\n",
       "      <td>2025-03-28T17:30:45Z</td>\n",
       "    </tr>\n",
       "  </tbody>\n",
       "</table>\n",
       "</div>"
      ],
      "text/plain": [
       "                                               title  \\\n",
       "0                    The fake promise of better Siri   \n",
       "1  Stocks Plunge After Trump Declares Web Rumor o...   \n",
       "2  People Making AI Studio Ghibli Images Are Now ...   \n",
       "3  Prosper murders 'expose lack of control' over ...   \n",
       "4  The Depressing Reason Those Terrible Fake Movi...   \n",
       "\n",
       "                                         description  \\\n",
       "0  Apple Intelligence is technically lots of thin...   \n",
       "1  The stock market had a brief moment of hope on...   \n",
       "2  Meanwhile, actual Ghibli creation Princess Mon...   \n",
       "3  Nicholas Prosper bought a gun with a fake lice...   \n",
       "4  As AI only gets better at fooling audiences, m...   \n",
       "\n",
       "                                             content       source  \\\n",
       "0  On The Vergecast: AI gadget failures, how Tesl...    The Verge   \n",
       "1  The stock market went on a rollercoaster ride ...  Gizmodo.com   \n",
       "2  The trend of using Open AI’s ChatGPT to create...  Gizmodo.com   \n",
       "3  Phil Shepka &amp; Laura Foster\\r\\nWatch: Kille...     BBC News   \n",
       "4  The latest viral AI craze has seen quickly gen...  Gizmodo.com   \n",
       "\n",
       "                                                 url           publishedAt  \n",
       "0  https://www.theverge.com/the-vergecast/629652/...  2025-03-14T12:50:21Z  \n",
       "1  https://gizmodo.com/stocks-plunge-after-trump-...  2025-04-07T17:32:00Z  \n",
       "2  https://gizmodo.com/ghibli-ai-chatgpt-fake-cea...  2025-03-28T20:35:34Z  \n",
       "3     https://www.bbc.com/news/articles/ce8vpz7dev5o  2025-03-20T01:26:41Z  \n",
       "4  https://gizmodo.com/the-depressing-reason-thos...  2025-03-28T17:30:45Z  "
      ]
     },
     "execution_count": 53,
     "metadata": {},
     "output_type": "execute_result"
    }
   ],
   "source": [
    "api_key = '6f71237ad68849519af767614c450566'  \n",
    "news_df = fetch_news(api_key)\n",
    "news_df.head()"
   ]
  },
  {
   "cell_type": "code",
   "execution_count": 57,
   "metadata": {},
   "outputs": [
    {
     "data": {
      "text/html": [
       "<div>\n",
       "<style scoped>\n",
       "    .dataframe tbody tr th:only-of-type {\n",
       "        vertical-align: middle;\n",
       "    }\n",
       "\n",
       "    .dataframe tbody tr th {\n",
       "        vertical-align: top;\n",
       "    }\n",
       "\n",
       "    .dataframe thead th {\n",
       "        text-align: right;\n",
       "    }\n",
       "</style>\n",
       "<table border=\"1\" class=\"dataframe\">\n",
       "  <thead>\n",
       "    <tr style=\"text-align: right;\">\n",
       "      <th></th>\n",
       "      <th>title</th>\n",
       "      <th>description</th>\n",
       "      <th>content</th>\n",
       "      <th>source</th>\n",
       "      <th>url</th>\n",
       "      <th>publishedAt</th>\n",
       "      <th>text</th>\n",
       "    </tr>\n",
       "  </thead>\n",
       "  <tbody>\n",
       "    <tr>\n",
       "      <th>0</th>\n",
       "      <td>The fake promise of better Siri</td>\n",
       "      <td>Apple Intelligence is technically lots of thin...</td>\n",
       "      <td>On The Vergecast: AI gadget failures, how Tesl...</td>\n",
       "      <td>The Verge</td>\n",
       "      <td>https://www.theverge.com/the-vergecast/629652/...</td>\n",
       "      <td>2025-03-14T12:50:21Z</td>\n",
       "      <td>The fake promise of better Siri Apple Intellig...</td>\n",
       "    </tr>\n",
       "    <tr>\n",
       "      <th>1</th>\n",
       "      <td>Stocks Plunge After Trump Declares Web Rumor o...</td>\n",
       "      <td>The stock market had a brief moment of hope on...</td>\n",
       "      <td>The stock market went on a rollercoaster ride ...</td>\n",
       "      <td>Gizmodo.com</td>\n",
       "      <td>https://gizmodo.com/stocks-plunge-after-trump-...</td>\n",
       "      <td>2025-04-07T17:32:00Z</td>\n",
       "      <td>Stocks Plunge After Trump Declares Web Rumor o...</td>\n",
       "    </tr>\n",
       "    <tr>\n",
       "      <th>2</th>\n",
       "      <td>People Making AI Studio Ghibli Images Are Now ...</td>\n",
       "      <td>Meanwhile, actual Ghibli creation Princess Mon...</td>\n",
       "      <td>The trend of using Open AI’s ChatGPT to create...</td>\n",
       "      <td>Gizmodo.com</td>\n",
       "      <td>https://gizmodo.com/ghibli-ai-chatgpt-fake-cea...</td>\n",
       "      <td>2025-03-28T20:35:34Z</td>\n",
       "      <td>People Making AI Studio Ghibli Images Are Now ...</td>\n",
       "    </tr>\n",
       "    <tr>\n",
       "      <th>3</th>\n",
       "      <td>Prosper murders 'expose lack of control' over ...</td>\n",
       "      <td>Nicholas Prosper bought a gun with a fake lice...</td>\n",
       "      <td>Phil Shepka &amp;amp; Laura Foster\\r\\nWatch: Kille...</td>\n",
       "      <td>BBC News</td>\n",
       "      <td>https://www.bbc.com/news/articles/ce8vpz7dev5o</td>\n",
       "      <td>2025-03-20T01:26:41Z</td>\n",
       "      <td>Prosper murders 'expose lack of control' over ...</td>\n",
       "    </tr>\n",
       "    <tr>\n",
       "      <th>4</th>\n",
       "      <td>The Depressing Reason Those Terrible Fake Movi...</td>\n",
       "      <td>As AI only gets better at fooling audiences, m...</td>\n",
       "      <td>The latest viral AI craze has seen quickly gen...</td>\n",
       "      <td>Gizmodo.com</td>\n",
       "      <td>https://gizmodo.com/the-depressing-reason-thos...</td>\n",
       "      <td>2025-03-28T17:30:45Z</td>\n",
       "      <td>The Depressing Reason Those Terrible Fake Movi...</td>\n",
       "    </tr>\n",
       "  </tbody>\n",
       "</table>\n",
       "</div>"
      ],
      "text/plain": [
       "                                               title  \\\n",
       "0                    The fake promise of better Siri   \n",
       "1  Stocks Plunge After Trump Declares Web Rumor o...   \n",
       "2  People Making AI Studio Ghibli Images Are Now ...   \n",
       "3  Prosper murders 'expose lack of control' over ...   \n",
       "4  The Depressing Reason Those Terrible Fake Movi...   \n",
       "\n",
       "                                         description  \\\n",
       "0  Apple Intelligence is technically lots of thin...   \n",
       "1  The stock market had a brief moment of hope on...   \n",
       "2  Meanwhile, actual Ghibli creation Princess Mon...   \n",
       "3  Nicholas Prosper bought a gun with a fake lice...   \n",
       "4  As AI only gets better at fooling audiences, m...   \n",
       "\n",
       "                                             content       source  \\\n",
       "0  On The Vergecast: AI gadget failures, how Tesl...    The Verge   \n",
       "1  The stock market went on a rollercoaster ride ...  Gizmodo.com   \n",
       "2  The trend of using Open AI’s ChatGPT to create...  Gizmodo.com   \n",
       "3  Phil Shepka &amp; Laura Foster\\r\\nWatch: Kille...     BBC News   \n",
       "4  The latest viral AI craze has seen quickly gen...  Gizmodo.com   \n",
       "\n",
       "                                                 url           publishedAt  \\\n",
       "0  https://www.theverge.com/the-vergecast/629652/...  2025-03-14T12:50:21Z   \n",
       "1  https://gizmodo.com/stocks-plunge-after-trump-...  2025-04-07T17:32:00Z   \n",
       "2  https://gizmodo.com/ghibli-ai-chatgpt-fake-cea...  2025-03-28T20:35:34Z   \n",
       "3     https://www.bbc.com/news/articles/ce8vpz7dev5o  2025-03-20T01:26:41Z   \n",
       "4  https://gizmodo.com/the-depressing-reason-thos...  2025-03-28T17:30:45Z   \n",
       "\n",
       "                                                text  \n",
       "0  The fake promise of better Siri Apple Intellig...  \n",
       "1  Stocks Plunge After Trump Declares Web Rumor o...  \n",
       "2  People Making AI Studio Ghibli Images Are Now ...  \n",
       "3  Prosper murders 'expose lack of control' over ...  \n",
       "4  The Depressing Reason Those Terrible Fake Movi...  "
      ]
     },
     "execution_count": 57,
     "metadata": {},
     "output_type": "execute_result"
    }
   ],
   "source": [
    "def combine_fields(df):\n",
    "    df['text'] = df[['title', 'description', 'content']].fillna('').agg(' '.join, axis=1)\n",
    "    return df\n",
    "\n",
    "news_df = combine_fields(news_df)\n",
    "news_df.head()"
   ]
  },
  {
   "cell_type": "code",
   "execution_count": 58,
   "metadata": {},
   "outputs": [],
   "source": [
    "import re\n",
    "import string\n",
    "\n"
   ]
  },
  {
   "cell_type": "code",
   "execution_count": 59,
   "metadata": {},
   "outputs": [],
   "source": [
    "\n",
    "def clean_text(text):\n",
    "    text = text.lower()\n",
    "    text = re.sub('\\[.*?\\]', \"\", text)\n",
    "    text = re.sub(\"\\\\W\", \" \", text)\n",
    "    text = re.sub(\"https?://\\S+|www\\.\\S+\", \"\", text)\n",
    "    text = re.sub(\"<.*?>+\", \"\", text)\n",
    "    text = re.sub(\"[%s]\" % re.escape(string.punctuation), \"\", text)\n",
    "    text = re.sub(\"\\n\", \"\", text)\n",
    "    text = re.sub(\"\\w*\\d\\w*\", \"\", text)\n",
    "    return text\n"
   ]
  },
  {
   "cell_type": "code",
   "execution_count": 60,
   "metadata": {},
   "outputs": [
    {
     "data": {
      "text/html": [
       "<div>\n",
       "<style scoped>\n",
       "    .dataframe tbody tr th:only-of-type {\n",
       "        vertical-align: middle;\n",
       "    }\n",
       "\n",
       "    .dataframe tbody tr th {\n",
       "        vertical-align: top;\n",
       "    }\n",
       "\n",
       "    .dataframe thead th {\n",
       "        text-align: right;\n",
       "    }\n",
       "</style>\n",
       "<table border=\"1\" class=\"dataframe\">\n",
       "  <thead>\n",
       "    <tr style=\"text-align: right;\">\n",
       "      <th></th>\n",
       "      <th>clean_text</th>\n",
       "    </tr>\n",
       "  </thead>\n",
       "  <tbody>\n",
       "    <tr>\n",
       "      <th>0</th>\n",
       "      <td>the fake promise of better siri apple intellig...</td>\n",
       "    </tr>\n",
       "    <tr>\n",
       "      <th>1</th>\n",
       "      <td>stocks plunge after trump declares web rumor o...</td>\n",
       "    </tr>\n",
       "    <tr>\n",
       "      <th>2</th>\n",
       "      <td>people making ai studio ghibli images are now ...</td>\n",
       "    </tr>\n",
       "    <tr>\n",
       "      <th>3</th>\n",
       "      <td>prosper murders  expose lack of control  over ...</td>\n",
       "    </tr>\n",
       "    <tr>\n",
       "      <th>4</th>\n",
       "      <td>the depressing reason those terrible fake movi...</td>\n",
       "    </tr>\n",
       "  </tbody>\n",
       "</table>\n",
       "</div>"
      ],
      "text/plain": [
       "                                          clean_text\n",
       "0  the fake promise of better siri apple intellig...\n",
       "1  stocks plunge after trump declares web rumor o...\n",
       "2  people making ai studio ghibli images are now ...\n",
       "3  prosper murders  expose lack of control  over ...\n",
       "4  the depressing reason those terrible fake movi..."
      ]
     },
     "execution_count": 60,
     "metadata": {},
     "output_type": "execute_result"
    }
   ],
   "source": [
    "news_df['clean_text'] = news_df['text'].apply(clean_text)\n",
    "news_df[['clean_text']].head()"
   ]
  },
  {
   "cell_type": "code",
   "execution_count": 62,
   "metadata": {},
   "outputs": [],
   "source": [
    "import joblib"
   ]
  },
  {
   "cell_type": "code",
   "execution_count": 63,
   "metadata": {},
   "outputs": [],
   "source": [
    "vectorizer = joblib.load(\"vectorizer.jb\")"
   ]
  },
  {
   "cell_type": "code",
   "execution_count": 64,
   "metadata": {},
   "outputs": [],
   "source": [
    "X_real_time = vectorizer.transform(news_df['clean_text'])"
   ]
  },
  {
   "cell_type": "code",
   "execution_count": 65,
   "metadata": {},
   "outputs": [
    {
     "data": {
      "text/plain": [
       "['new_vectorizer.jb']"
      ]
     },
     "execution_count": 65,
     "metadata": {},
     "output_type": "execute_result"
    }
   ],
   "source": [
    "joblib.dump(vectorizer, 'new_vectorizer.jb')\n"
   ]
  },
  {
   "cell_type": "code",
   "execution_count": 66,
   "metadata": {},
   "outputs": [],
   "source": [
    "import joblib"
   ]
  },
  {
   "cell_type": "code",
   "execution_count": 67,
   "metadata": {},
   "outputs": [],
   "source": [
    "logistic_model = joblib.load('logistic_regression.jb')\n",
    "random_forest_model = joblib.load('random_forest.jb')\n",
    "naive_bayes_model = joblib.load('naive_bayes.jb')\n",
    "svm_model = joblib.load('svm.jb')\n",
    "gradient_boosting_model = joblib.load('gradient_boosting.jb')"
   ]
  },
  {
   "cell_type": "code",
   "execution_count": 68,
   "metadata": {},
   "outputs": [],
   "source": [
    "X_real_time = vectorizer.transform(news_df['clean_text'])"
   ]
  },
  {
   "cell_type": "code",
   "execution_count": 71,
   "metadata": {},
   "outputs": [],
   "source": [
    "news_df['logistic_pred'] = logistic_model.predict(X_real_time)\n",
    "news_df['random_forest_pred'] = random_forest_model.predict(X_real_time)\n",
    "news_df['naive_bayes_pred'] = naive_bayes_model.predict(X_real_time)\n",
    "news_df['svm_pred'] = svm_model.predict(X_real_time)\n",
    "news_df['gb_pred'] = gradient_boosting_model.predict(X_real_time)"
   ]
  },
  {
   "cell_type": "code",
   "execution_count": null,
   "metadata": {},
   "outputs": [],
   "source": [
    "label_map = {0: 'Fake', 1: 'Real'}\n",
    "\n",
    "for model in ['logistic', 'random_forest', 'naive_bayes', 'svm', 'gb']:\n",
    "    pred_col = f\"{model}_pred\"\n",
    "    label_col = f\"{model}_label\"\n",
    "    news_df[label_col] = news_df[pred_col].map(label_map)\n"
   ]
  },
  {
   "cell_type": "code",
   "execution_count": 73,
   "metadata": {},
   "outputs": [
    {
     "data": {
      "text/html": [
       "<div>\n",
       "<style scoped>\n",
       "    .dataframe tbody tr th:only-of-type {\n",
       "        vertical-align: middle;\n",
       "    }\n",
       "\n",
       "    .dataframe tbody tr th {\n",
       "        vertical-align: top;\n",
       "    }\n",
       "\n",
       "    .dataframe thead th {\n",
       "        text-align: right;\n",
       "    }\n",
       "</style>\n",
       "<table border=\"1\" class=\"dataframe\">\n",
       "  <thead>\n",
       "    <tr style=\"text-align: right;\">\n",
       "      <th></th>\n",
       "      <th>title</th>\n",
       "      <th>logistic_label</th>\n",
       "      <th>random_forest_label</th>\n",
       "      <th>naive_bayes_label</th>\n",
       "      <th>svm_label</th>\n",
       "      <th>gb_label</th>\n",
       "    </tr>\n",
       "  </thead>\n",
       "  <tbody>\n",
       "    <tr>\n",
       "      <th>0</th>\n",
       "      <td>The fake promise of better Siri</td>\n",
       "      <td>Fake</td>\n",
       "      <td>Fake</td>\n",
       "      <td>Fake</td>\n",
       "      <td>Fake</td>\n",
       "      <td>Fake</td>\n",
       "    </tr>\n",
       "    <tr>\n",
       "      <th>1</th>\n",
       "      <td>Stocks Plunge After Trump Declares Web Rumor o...</td>\n",
       "      <td>Fake</td>\n",
       "      <td>Fake</td>\n",
       "      <td>Fake</td>\n",
       "      <td>Fake</td>\n",
       "      <td>Fake</td>\n",
       "    </tr>\n",
       "    <tr>\n",
       "      <th>2</th>\n",
       "      <td>People Making AI Studio Ghibli Images Are Now ...</td>\n",
       "      <td>Fake</td>\n",
       "      <td>Fake</td>\n",
       "      <td>Fake</td>\n",
       "      <td>Fake</td>\n",
       "      <td>Fake</td>\n",
       "    </tr>\n",
       "    <tr>\n",
       "      <th>3</th>\n",
       "      <td>Prosper murders 'expose lack of control' over ...</td>\n",
       "      <td>Fake</td>\n",
       "      <td>Fake</td>\n",
       "      <td>Fake</td>\n",
       "      <td>Fake</td>\n",
       "      <td>Fake</td>\n",
       "    </tr>\n",
       "    <tr>\n",
       "      <th>4</th>\n",
       "      <td>The Depressing Reason Those Terrible Fake Movi...</td>\n",
       "      <td>Fake</td>\n",
       "      <td>Fake</td>\n",
       "      <td>Fake</td>\n",
       "      <td>Fake</td>\n",
       "      <td>Fake</td>\n",
       "    </tr>\n",
       "  </tbody>\n",
       "</table>\n",
       "</div>"
      ],
      "text/plain": [
       "                                               title logistic_label  \\\n",
       "0                    The fake promise of better Siri           Fake   \n",
       "1  Stocks Plunge After Trump Declares Web Rumor o...           Fake   \n",
       "2  People Making AI Studio Ghibli Images Are Now ...           Fake   \n",
       "3  Prosper murders 'expose lack of control' over ...           Fake   \n",
       "4  The Depressing Reason Those Terrible Fake Movi...           Fake   \n",
       "\n",
       "  random_forest_label naive_bayes_label svm_label gb_label  \n",
       "0                Fake              Fake      Fake     Fake  \n",
       "1                Fake              Fake      Fake     Fake  \n",
       "2                Fake              Fake      Fake     Fake  \n",
       "3                Fake              Fake      Fake     Fake  \n",
       "4                Fake              Fake      Fake     Fake  "
      ]
     },
     "execution_count": 73,
     "metadata": {},
     "output_type": "execute_result"
    }
   ],
   "source": [
    "news_df[['title', 'logistic_label', 'random_forest_label', \n",
    "         'naive_bayes_label', 'svm_label', 'gb_label']].head(10)\n"
   ]
  },
  {
   "cell_type": "code",
   "execution_count": 74,
   "metadata": {},
   "outputs": [],
   "source": [
    "# List of individual model label columns\n",
    "label_columns = [\n",
    "    'logistic_label',\n",
    "    'random_forest_label',\n",
    "    'naive_bayes_label',\n",
    "    'svm_label',\n",
    "    'gb_label'\n",
    "]\n",
    "\n",
    "# Compute the majority vote for each row\n",
    "news_df['true_label'] = news_df[label_columns].mode(axis=1)[0]\n"
   ]
  },
  {
   "cell_type": "code",
   "execution_count": 75,
   "metadata": {},
   "outputs": [],
   "source": [
    "label_map = {0: 'Fake', 1: 'Real'}\n",
    "news_df['final_verdict'] = news_df['true_label'].map(label_map)\n"
   ]
  },
  {
   "cell_type": "code",
   "execution_count": 76,
   "metadata": {},
   "outputs": [
    {
     "name": "stdout",
     "output_type": "stream",
     "text": [
      "                                               title logistic_label  \\\n",
      "0                    The fake promise of better Siri           Fake   \n",
      "1  Stocks Plunge After Trump Declares Web Rumor o...           Fake   \n",
      "2  People Making AI Studio Ghibli Images Are Now ...           Fake   \n",
      "3  Prosper murders 'expose lack of control' over ...           Fake   \n",
      "4  The Depressing Reason Those Terrible Fake Movi...           Fake   \n",
      "\n",
      "  random_forest_label naive_bayes_label svm_label gb_label true_label  \\\n",
      "0                Fake              Fake      Fake     Fake       Fake   \n",
      "1                Fake              Fake      Fake     Fake       Fake   \n",
      "2                Fake              Fake      Fake     Fake       Fake   \n",
      "3                Fake              Fake      Fake     Fake       Fake   \n",
      "4                Fake              Fake      Fake     Fake       Fake   \n",
      "\n",
      "  final_verdict  \n",
      "0           NaN  \n",
      "1           NaN  \n",
      "2           NaN  \n",
      "3           NaN  \n",
      "4           NaN  \n"
     ]
    }
   ],
   "source": [
    "# Print the model predictions along with the final true label\n",
    "print(news_df[['title'] + label_columns + ['true_label', 'final_verdict']].head())"
   ]
  },
  {
   "cell_type": "code",
   "execution_count": null,
   "metadata": {},
   "outputs": [],
   "source": [
    "news_df[['text', 'true_label']].to_csv(\"cleaned_news_labels.csv\", index=False)\n",
    "\n"
   ]
  },
  {
   "cell_type": "code",
   "execution_count": 79,
   "metadata": {},
   "outputs": [],
   "source": [
    "news_df.drop(columns=['final_verdict'], inplace=True)"
   ]
  },
  {
   "cell_type": "code",
   "execution_count": 80,
   "metadata": {},
   "outputs": [],
   "source": [
    "label_map = {'Fake': 0, 'Real': 1}\n",
    "news_df['true_label'] = news_df['true_label'].map(label_map)"
   ]
  },
  {
   "cell_type": "code",
   "execution_count": 81,
   "metadata": {},
   "outputs": [
    {
     "name": "stdout",
     "output_type": "stream",
     "text": [
      "                                                text  true_label\n",
      "0  The fake promise of better Siri Apple Intellig...           0\n",
      "1  Stocks Plunge After Trump Declares Web Rumor o...           0\n",
      "2  People Making AI Studio Ghibli Images Are Now ...           0\n",
      "3  Prosper murders 'expose lack of control' over ...           0\n",
      "4  The Depressing Reason Those Terrible Fake Movi...           0\n"
     ]
    }
   ],
   "source": [
    "print(news_df[['text', 'true_label']].head())\n"
   ]
  },
  {
   "cell_type": "code",
   "execution_count": 82,
   "metadata": {},
   "outputs": [],
   "source": [
    "news_df[['text', 'true_label']].to_csv(\"cleaned_news_labels.csv\", index=False)"
   ]
  },
  {
   "cell_type": "code",
   "execution_count": 34,
   "metadata": {},
   "outputs": [],
   "source": [
    "import os"
   ]
  },
  {
   "cell_type": "code",
   "execution_count": 36,
   "metadata": {},
   "outputs": [],
   "source": [
    "news_df.to_csv(\"real_time_news_predictions.csv\", mode='a', header=not os.path.exists(\"real_time_news_predictions.csv\"), index=False)\n"
   ]
  },
  {
   "cell_type": "code",
   "execution_count": 38,
   "metadata": {},
   "outputs": [],
   "source": [
    "import pandas as pd\n",
    "import joblib\n",
    "from sklearn.model_selection import train_test_split\n",
    "from sklearn.feature_extraction.text import TfidfVectorizer\n",
    "from sklearn.linear_model import LogisticRegression\n",
    "from sklearn.naive_bayes import MultinomialNB\n",
    "from sklearn.svm import SVC\n",
    "from sklearn.ensemble import RandomForestClassifier, GradientBoostingClassifier"
   ]
  },
  {
   "cell_type": "code",
   "execution_count": null,
   "metadata": {},
   "outputs": [],
   "source": [
    "def retrain_from_csv(csv_path=\"real_time_news_predictions.csv\"):\n",
    "    # Load CSV# Must contain 'text' and 'true_label'\n",
    "    if 'text' not in df.columns or 'true_label' not in df.columns:\n",
    "        raise ValueError(\"CSV must contain 'text' and 'true_label' columns\")\n",
    "\n",
    "    x = df['text']\n",
    "    y = df['true_label']\n",
    "    df = pd.read_csv(csv_path)"
   ]
  },
  {
   "cell_type": "code",
   "execution_count": null,
   "metadata": {},
   "outputs": [],
   "source": []
  }
 ],
 "metadata": {
  "kernelspec": {
   "display_name": "venv",
   "language": "python",
   "name": "python3"
  },
  "language_info": {
   "codemirror_mode": {
    "name": "ipython",
    "version": 3
   },
   "file_extension": ".py",
   "mimetype": "text/x-python",
   "name": "python",
   "nbconvert_exporter": "python",
   "pygments_lexer": "ipython3",
   "version": "3.11.4"
  }
 },
 "nbformat": 4,
 "nbformat_minor": 2
}
